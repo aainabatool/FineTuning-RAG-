{
  "nbformat": 4,
  "nbformat_minor": 0,
  "metadata": {
    "colab": {
      "provenance": [],
      "gpuType": "T4",
      "authorship_tag": "ABX9TyPdVGryQ2nrfzTwZK+ES9g0",
      "include_colab_link": true
    },
    "kernelspec": {
      "name": "python3",
      "display_name": "Python 3"
    },
    "language_info": {
      "name": "python"
    },
    "accelerator": "GPU"
  },
  "cells": [
    {
      "cell_type": "markdown",
      "metadata": {
        "id": "view-in-github",
        "colab_type": "text"
      },
      "source": [
        "<a href=\"https://colab.research.google.com/github/aainabatool/FineTuning-RAG-/blob/main/FineTunning_%2B_RAG.ipynb\" target=\"_parent\"><img src=\"https://colab.research.google.com/assets/colab-badge.svg\" alt=\"Open In Colab\"/></a>"
      ]
    },
    {
      "cell_type": "markdown",
      "source": [
        "## **Fine-tune a small model (flan-t5-small) with LoRA (PEFT) on SQuAD v1.**\n",
        "\n",
        "# Implement a simple RAG pipeline using FAISS for retrieval **bold text**"
      ],
      "metadata": {
        "id": "i1ToKXi4Cvxk"
      }
    },
    {
      "cell_type": "code",
      "execution_count": null,
      "metadata": {
        "id": "xcYF2M3xCZf7"
      },
      "outputs": [],
      "source": [
        "!pip install torch torchvision torchaudio --upgrade\n",
        "!pip install transformers datasets evaluate accelerate\n",
        "!pip install peft\n",
        "!pip install sentence-transformers faiss-cpu\n",
        "!pip install wandb  # optional logging\n"
      ]
    },
    {
      "cell_type": "code",
      "source": [
        "pip install -U transformers\n"
      ],
      "metadata": {
        "id": "uh8C63oBEjhE"
      },
      "execution_count": null,
      "outputs": []
    },
    {
      "cell_type": "markdown",
      "source": [
        "**Load Dataset**"
      ],
      "metadata": {
        "id": "TmrySdMQKx6x"
      }
    },
    {
      "cell_type": "code",
      "source": [
        "from datasets import load_dataset\n",
        "\n",
        "dataset = load_dataset(\"squad\")\n",
        "print(dataset[\"train\"][0])\n"
      ],
      "metadata": {
        "id": "zQRD4u7JC8Hu"
      },
      "execution_count": null,
      "outputs": []
    },
    {
      "cell_type": "markdown",
      "source": [
        "**Fine-Tune with LoRA (PEFT)**"
      ],
      "metadata": {
        "id": "r8pMf0tvKqYh"
      }
    },
    {
      "cell_type": "code",
      "source": [
        "from transformers import AutoTokenizer, AutoModelForSeq2SeqLM, TrainingArguments, Trainer\n",
        "from peft import LoraConfig, get_peft_model\n",
        "\n",
        "# Model & tokenizer\n",
        "model_name = \"google/flan-t5-small\"\n",
        "tokenizer = AutoTokenizer.from_pretrained(model_name)\n",
        "model = AutoModelForSeq2SeqLM.from_pretrained(model_name)\n",
        "\n",
        "# Apply LoRA\n",
        "lora_config = LoraConfig(\n",
        "    r=8,\n",
        "    lora_alpha=32,\n",
        "    target_modules=[\"q\", \"v\"],  # query/value projection layers\n",
        "    lora_dropout=0.05,\n",
        "    task_type=\"SEQ_2_SEQ_LM\"\n",
        ")\n",
        "model = get_peft_model(model, lora_config)\n"
      ],
      "metadata": {
        "id": "LWXqTi7XDLKP"
      },
      "execution_count": null,
      "outputs": []
    },
    {
      "cell_type": "code",
      "source": [
        "def preprocess(example):\n",
        "    # Inputs = Question + Context\n",
        "    inputs = [f\"question: {q} context: {c}\" for q, c in zip(example[\"question\"], example[\"context\"])]\n",
        "\n",
        "    # Targets = first answer if exists, else empty string\n",
        "    targets = []\n",
        "    for ans in example[\"answers\"]:\n",
        "        if ans[\"text\"]:  # check if non-empty\n",
        "            targets.append(ans[\"text\"][0])   # take first answer\n",
        "        else:\n",
        "            targets.append(\"\")\n",
        "\n",
        "    # Tokenize inputs\n",
        "    model_inputs = tokenizer(inputs, truncation=True, padding=\"max_length\", max_length=256)\n",
        "\n",
        "    # Tokenize outputs (labels)\n",
        "    labels = tokenizer(targets, truncation=True, padding=\"max_length\", max_length=64).input_ids\n",
        "    model_inputs[\"labels\"] = labels\n",
        "\n",
        "    return model_inputs\n"
      ],
      "metadata": {
        "id": "HFAgMvk4DQo-"
      },
      "execution_count": null,
      "outputs": []
    },
    {
      "cell_type": "code",
      "source": [
        "encoded = dataset.map(preprocess, batched=True)\n"
      ],
      "metadata": {
        "id": "X9aGUoVwD-z6"
      },
      "execution_count": null,
      "outputs": []
    },
    {
      "cell_type": "code",
      "source": [
        "args = TrainingArguments(\n",
        "    output_dir=\"./results\",\n",
        "    eval_strategy=\"epoch\",\n",
        "    save_strategy=\"epoch\",\n",
        "    learning_rate=5e-4,\n",
        "    per_device_train_batch_size=16,\n",
        "    num_train_epochs=2,\n",
        "    weight_decay=0.01,\n",
        "    fp16=True,\n",
        "    logging_dir=\"./logs\",\n",
        "    report_to=\"none\"\n",
        ")"
      ],
      "metadata": {
        "id": "wHdgDSqCEwlE"
      },
      "execution_count": null,
      "outputs": []
    },
    {
      "cell_type": "code",
      "source": [
        "trainer = Trainer(\n",
        "    model=model,\n",
        "    args=args,\n",
        "    train_dataset=encoded[\"train\"].select(range(5000)),     # subset for speed\n",
        "    eval_dataset=encoded[\"validation\"].select(range(500)),  # subset for speed\n",
        "    tokenizer=tokenizer\n",
        ")"
      ],
      "metadata": {
        "id": "yH11xEcVD3fb"
      },
      "execution_count": null,
      "outputs": []
    },
    {
      "cell_type": "code",
      "source": [
        "trainer.train()\n",
        "model.save_pretrained(\"./finetuned-flan-t5\")\n",
        "tokenizer.save_pretrained(\"./finetuned-flan-t5\")"
      ],
      "metadata": {
        "id": "JHZaOfmAD6dN"
      },
      "execution_count": null,
      "outputs": []
    },
    {
      "cell_type": "code",
      "source": [
        "from transformers import pipeline\n",
        "\n",
        "# Load your fine-tuned model\n",
        "pipe = pipeline(\"text2text-generation\", model=\"./finetuned-flan-t5\", tokenizer=\"./finetuned-flan-t5\")\n",
        "\n",
        "# Try a custom question\n",
        "result = pipe(\"question: What is the capital of Pakistan? context: Pakistan is a country in South Asia. Its capital is Islamabad.\")\n",
        "print(result[0][\"generated_text\"])\n"
      ],
      "metadata": {
        "id": "KCcem0BYVFj9"
      },
      "execution_count": null,
      "outputs": []
    },
    {
      "cell_type": "markdown",
      "source": [
        "**Build Retrieval (FAISS)**"
      ],
      "metadata": {
        "id": "os__UMmHKf4q"
      }
    },
    {
      "cell_type": "code",
      "source": [
        "from sentence_transformers import SentenceTransformer\n",
        "import faiss\n",
        "import numpy as np\n",
        "\n",
        "# Knowledge base\n",
        "docs = [\n",
        "    \"The Eiffel Tower is located in Paris, France.\",\n",
        "    \"LoRA is a parameter-efficient fine-tuning method for transformers.\",\n",
        "    \"RAG combines retrieval and generation for better question answering.\",\n",
        "    \"The Great Wall of China was built to protect against invasions.\"\n",
        "]\n",
        "\n",
        "# Embedding model\n",
        "embedder = SentenceTransformer(\"all-MiniLM-L6-v2\")\n",
        "doc_embeddings = embedder.encode(docs)\n",
        "\n",
        "# Build FAISS index\n",
        "dim = doc_embeddings.shape[1]\n",
        "index = faiss.IndexFlatL2(dim)\n",
        "index.add(np.array(doc_embeddings))\n"
      ],
      "metadata": {
        "id": "KFPNUoPZFFEg"
      },
      "execution_count": null,
      "outputs": []
    },
    {
      "cell_type": "markdown",
      "source": [
        "**RAG**"
      ],
      "metadata": {
        "id": "bbMi8iW9K7U6"
      }
    },
    {
      "cell_type": "code",
      "source": [
        "from transformers import pipeline\n",
        "\n",
        "# Load fine-tuned model\n",
        "from transformers import AutoModelForSeq2SeqLM\n",
        "ft_model = AutoModelForSeq2SeqLM.from_pretrained(\"./finetuned-flan-t5\")\n",
        "ft_tokenizer = AutoTokenizer.from_pretrained(\"./finetuned-flan-t5\")\n",
        "\n",
        "def rag_answer(query, top_k=1):\n",
        "    # Retrieve doc\n",
        "    q_emb = embedder.encode([query])\n",
        "    D, I = index.search(np.array(q_emb), k=top_k)\n",
        "    retrieved_doc = docs[I[0][0]]\n",
        "\n",
        "    # Generate answer\n",
        "    input_text = f\"question: {query} context: {retrieved_doc}\"\n",
        "    inputs = ft_tokenizer(input_text, return_tensors=\"pt\")\n",
        "    outputs = ft_model.generate(**inputs, max_length=50)\n",
        "    answer = ft_tokenizer.decode(outputs[0], skip_special_tokens=True)\n",
        "\n",
        "    return retrieved_doc, answer\n",
        "\n",
        "# Test case\n",
        "query = \"Where is the Eiffel Tower located?\"\n",
        "retrieved, answer = rag_answer(query)\n",
        "\n",
        "print(\"User Query:\", query)\n",
        "print(\"Retrieved Doc:\", retrieved)\n",
        "print(\"Final Answer:\", answer)\n"
      ],
      "metadata": {
        "id": "3ndwf3c-KcHe"
      },
      "execution_count": null,
      "outputs": []
    }
  ]
}